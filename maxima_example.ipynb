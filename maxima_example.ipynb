# Run Maxima command
!maxima --batch-string="expand((x + y)^3);"

